{
    "cells": [
        {
            "cell_type": "markdown",
            "metadata": {},
            "source": "### This is about collection of Patient Drug details"
        },
        {
            "cell_type": "code",
            "execution_count": 1,
            "metadata": {},
            "outputs": [
                {
                    "data": {
                        "text/html": "<div>\n<style scoped>\n    .dataframe tbody tr th:only-of-type {\n        vertical-align: middle;\n    }\n\n    .dataframe tbody tr th {\n        vertical-align: top;\n    }\n\n    .dataframe thead th {\n        text-align: right;\n    }\n</style>\n<table border=\"1\" class=\"dataframe\">\n  <thead>\n    <tr style=\"text-align: right;\">\n      <th></th>\n      <th>id</th>\n      <th>first_name</th>\n      <th>last_name</th>\n      <th>gender</th>\n      <th>drug_name</th>\n    </tr>\n  </thead>\n  <tbody>\n    <tr>\n      <th>0</th>\n      <td>1</td>\n      <td>Janenna</td>\n      <td>Andretti</td>\n      <td>Female</td>\n      <td>Norethindrone and Ethinyl Estradiol</td>\n    </tr>\n    <tr>\n      <th>1</th>\n      <td>2</td>\n      <td>Yehudi</td>\n      <td>Feilden</td>\n      <td>Male</td>\n      <td>ropinirole</td>\n    </tr>\n    <tr>\n      <th>2</th>\n      <td>3</td>\n      <td>Loralyn</td>\n      <td>McCoy</td>\n      <td>Female</td>\n      <td>Anticoagulant Citrate Phosphate Dextrose (CPD)...</td>\n    </tr>\n    <tr>\n      <th>3</th>\n      <td>4</td>\n      <td>Alard</td>\n      <td>Hucknall</td>\n      <td>Male</td>\n      <td>Isopropyl Alcohol</td>\n    </tr>\n    <tr>\n      <th>4</th>\n      <td>5</td>\n      <td>Chevalier</td>\n      <td>Luca</td>\n      <td>Male</td>\n      <td>gabapentin</td>\n    </tr>\n  </tbody>\n</table>\n</div>",
                        "text/plain": "   id first_name last_name  gender  \\\n0   1    Janenna  Andretti  Female   \n1   2     Yehudi   Feilden    Male   \n2   3    Loralyn     McCoy  Female   \n3   4      Alard  Hucknall    Male   \n4   5  Chevalier      Luca    Male   \n\n                                           drug_name  \n0                Norethindrone and Ethinyl Estradiol  \n1                                         ropinirole  \n2  Anticoagulant Citrate Phosphate Dextrose (CPD)...  \n3                                  Isopropyl Alcohol  \n4                                         gabapentin  "
                    },
                    "execution_count": 1,
                    "metadata": {},
                    "output_type": "execute_result"
                }
            ],
            "source": "# The code was removed by Watson Studio for sharing."
        },
        {
            "cell_type": "code",
            "execution_count": null,
            "metadata": {},
            "outputs": [],
            "source": ""
        }
    ],
    "metadata": {
        "kernelspec": {
            "display_name": "Python 3.6",
            "language": "python",
            "name": "python3"
        },
        "language_info": {
            "codemirror_mode": {
                "name": "ipython",
                "version": 3
            },
            "file_extension": ".py",
            "mimetype": "text/x-python",
            "name": "python",
            "nbconvert_exporter": "python",
            "pygments_lexer": "ipython3",
            "version": "3.6.9"
        }
    },
    "nbformat": 4,
    "nbformat_minor": 1
}